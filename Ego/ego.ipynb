{
 "cells": [
  {
   "cell_type": "code",
   "execution_count": null,
   "id": "1557202e-95d4-44c8-8902-b835fc375361",
   "metadata": {},
   "outputs": [],
   "source": [
    "import numpy as np\n",
    "from fmpy import *\n",
    "import matplotlib.pyplot as plt\n",
    "import random"
   ]
  },
  {
   "cell_type": "code",
   "execution_count": null,
   "id": "63397dbc-f964-4d63-9e34-d798261dd7fd",
   "metadata": {},
   "outputs": [],
   "source": [
    "fmu = 'ego.fmu'\n",
    "dump(fmu)"
   ]
  },
  {
   "cell_type": "code",
   "execution_count": null,
   "id": "fc2ff152-20c3-4849-bb0a-3e37f8adf3fa",
   "metadata": {},
   "outputs": [],
   "source": [
    "model_description = read_model_description(fmu)\n",
    "\n",
    "# 提取输入变量\n",
    "inputs = []\n",
    "for variable in model_description.modelVariables:\n",
    "    if variable.causality == 'input':  # 输入变量\n",
    "        inputs.append(variable.name)\n",
    "\n",
    "# 提取输出变量\n",
    "outputs = []\n",
    "for variable in model_description.modelVariables:\n",
    "    if variable.causality == 'output':  # 输出变量\n",
    "        outputs.append(variable.name)\n",
    "\n",
    "print(\"输入变量:\", inputs)\n",
    "print(\"输出变量:\", outputs)"
   ]
  },
  {
   "cell_type": "code",
   "execution_count": null,
   "id": "263252af-625a-47c9-a922-05cd7ba7db47",
   "metadata": {},
   "outputs": [],
   "source": [
    "np.random.seed(42)\n",
    "start_time = 0\n",
    "stop_time = 5\n",
    "step_size = 0.1\n",
    "\n",
    "timestamps = np.arange(start_time, stop_time, step_size)\n",
    "\n",
    "# X = list(np.random.uniform(-10, 10, size=len(timestamps)))\n",
    "# Y = list(np.random.uniform(-10, 10, size=len(timestamps)))\n",
    "# Z = list(np.random.uniform(-10, 10, size=len(timestamps)))\n",
    "# heading = list(np.random.uniform(-90, 90, size=len(timestamps)))\n",
    "# pitch = list(np.random.uniform(-90, 90, size=len(timestamps)))\n",
    "# roll = list(np.random.uniform(-90, 90, size=len(timestamps)))\n",
    "# speed = list(np.random.uniform(0, 100, size=len(timestamps)))\n",
    "\n",
    "X = list(np.random.randint(-10, 11, size=len(timestamps)))\n",
    "Y = list(np.random.randint(-10, 11, size=len(timestamps)))\n",
    "Z = list(np.random.randint(-10, 11, size=len(timestamps)))\n",
    "heading = list(np.random.randint(-90, 91, size=len(timestamps)))\n",
    "pitch = list(np.random.randint(-90, 91, size=len(timestamps)))\n",
    "roll = list(np.random.randint(-90, 91, size=len(timestamps)))\n",
    "speed = list(np.random.randint(50, 101, size=len(timestamps)))\n",
    "\n",
    "# input_data_list = []\n",
    "# for var in inputs:\n",
    "#     signal = locals()[var]\n",
    "#     print(signal)\n",
    "    \n",
    "#     # 使用 zip 将时间戳和信号配对，并将它们转换为一个结构化的 numpy 数组\n",
    "#     input_data_list.append(np.array(list(zip(signal)),\n",
    "#                                     dtype=[(var, np.float64)]))\n",
    "\n",
    "# # 将所有信号的输入数据合并为一个 numpy 数组\n",
    "# input_data = np.concatenate(input_data_list)\n",
    "\n",
    "# input_data_list = np.array(list(zip(X, Y, Z, heading, pitch, roll, speed)),\n",
    "#                            dtype=[('X', np.float64), ('Y', np.float64), \n",
    "#                                   ('Z', np.float64), ('Heading', np.float64),\n",
    "#                                   ('Pitch', np.float64), ('Roll', np.float64),\n",
    "#                                   ('Speed', np.float64)])\n",
    "\n",
    "input_data_list = np.array(list(zip(X, Y, Z, heading, pitch, roll, speed)),\n",
    "                           dtype=[('X', np.int64), ('Y', np.int64), \n",
    "                                  ('Z', np.int64), ('Heading', np.int64),\n",
    "                                  ('Pitch', np.int64), ('Roll', np.int64),\n",
    "                                  ('Speed', np.int64)])\n",
    "\n",
    "print(input_data_list)"
   ]
  },
  {
   "cell_type": "code",
   "execution_count": null,
   "id": "b0547dac-3237-4bed-8454-a8e924d36d39",
   "metadata": {},
   "outputs": [],
   "source": [
    "result = simulate_fmu('ego.fmu',\n",
    "                           start_time=start_time, stop_time=stop_time, step_size=step_size,\n",
    "                           input=input_data_list,  # 确保 input 是一个 numpy 数组\n",
    "                           output=outputs)\n",
    "print(result.dtype)"
   ]
  },
  {
   "cell_type": "code",
   "execution_count": null,
   "id": "ca7f9871-d62a-4518-b6f2-b71a3cf121b9",
   "metadata": {},
   "outputs": [],
   "source": [
    "result_timestamp = result[result.dtype.names[1]]  # Assuming 'timestamp' is the correct field name\n",
    "result_location = np.column_stack((result[result.dtype.names[2]], result[result.dtype.names[3]], result[result.dtype.names[4]]))  # Combine X and Y for location\n",
    "result_angle = np.column_stack((result[result.dtype.names[5]], result[result.dtype.names[6]], result[result.dtype.names[7]]))  # Combine heading and pitch for angle\n",
    "result_speed = result[result.dtype.names[-1]]  # Access speed directly\n",
    "\n",
    "# print(result_location)"
   ]
  },
  {
   "cell_type": "code",
   "execution_count": null,
   "id": "1188d94a-8b9b-40b8-a7de-32d661a584d4",
   "metadata": {},
   "outputs": [],
   "source": [
    "print(result_speed)"
   ]
  },
  {
   "cell_type": "code",
   "execution_count": null,
   "id": "6b181b3c-affc-42ce-8664-071ac805da1e",
   "metadata": {},
   "outputs": [],
   "source": [
    "print(result)"
   ]
  },
  {
   "cell_type": "code",
   "execution_count": null,
   "id": "21c3bb0a-cf0c-4ae3-b62e-107963294dc2",
   "metadata": {},
   "outputs": [],
   "source": []
  }
 ],
 "metadata": {
  "kernelspec": {
   "display_name": "Python 3 (ipykernel)",
   "language": "python",
   "name": "python3"
  },
  "language_info": {
   "codemirror_mode": {
    "name": "ipython",
    "version": 3
   },
   "file_extension": ".py",
   "mimetype": "text/x-python",
   "name": "python",
   "nbconvert_exporter": "python",
   "pygments_lexer": "ipython3",
   "version": "3.12.2"
  }
 },
 "nbformat": 4,
 "nbformat_minor": 5
}
