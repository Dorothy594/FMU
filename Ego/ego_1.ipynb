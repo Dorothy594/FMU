{
 "cells": [
  {
   "cell_type": "code",
   "execution_count": 1,
   "id": "621ac025-d47b-4f45-8b70-2d580b8cc79f",
   "metadata": {},
   "outputs": [],
   "source": [
    "import numpy as np\n",
    "from fmpy import *\n",
    "from pyfmi import load_fmu\n",
    "import matplotlib.pyplot as plt\n",
    "import random"
   ]
  },
  {
   "cell_type": "code",
   "execution_count": 2,
   "id": "0c12c1fc-244e-4846-a50e-6ec1e7f33419",
   "metadata": {},
   "outputs": [
    {
     "name": "stdout",
     "output_type": "stream",
     "text": [
      "\n",
      "Model Info\n",
      "\n",
      "  FMI Version        2.0\n",
      "  FMI Type           Co-Simulation\n",
      "  Model Name         ego\n",
      "  Description        None\n",
      "  Platforms          linux64, win64\n",
      "  Continuous States  0\n",
      "  Event Indicators   0\n",
      "  Variables          16\n",
      "  Generation Tool    Simulink (R2024b)\n",
      "  Generation Date    2025-01-28T17:34:10Z\n",
      "\n",
      "Default Experiment\n",
      "\n",
      "  Stop Time          5.0\n",
      "  Step Size          0.1\n",
      "\n",
      "Variables (input, output)\n",
      "\n",
      "  Name               Causality              Start Value  Unit     Description\n",
      "  X                  input                            0           X\n",
      "  Y                  input                            0           Y\n",
      "  Z                  input                            0           Z\n",
      "  Heading            input                            0           Heading\n",
      "  Pitch              input                            0           Pitch\n",
      "  Roll               input                            0           Roll\n",
      "  Speed              input                            0           Speed\n",
      "  timestamps         output                                       timestamps\n",
      "  location[1,1]      output                                       location(1,1)\n",
      "  location[1,2]      output                                       location(1,2)\n",
      "  location[1,3]      output                                       location(1,3)\n",
      "  angle[1,1]         output                                       angle(1,1)\n",
      "  angle[1,2]         output                                       angle(1,2)\n",
      "  angle[1,3]         output                                       angle(1,3)\n",
      "  accelerate_        output                                       accelerate?\n"
     ]
    }
   ],
   "source": [
    "fmu = 'ego.fmu'\n",
    "dump(fmu)\n",
    "model = load_fmu(fmu)"
   ]
  },
  {
   "cell_type": "code",
   "execution_count": 3,
   "id": "9431fce7-fdac-4550-8752-f2289a1b601f",
   "metadata": {},
   "outputs": [
    {
     "name": "stdout",
     "output_type": "stream",
     "text": [
      "输入变量: ['X', 'Y', 'Z', 'Heading', 'Pitch', 'Roll', 'Speed']\n",
      "输出变量: ['timestamps', 'location[1,1]', 'location[1,2]', 'location[1,3]', 'angle[1,1]', 'angle[1,2]', 'angle[1,3]', 'accelerate_']\n"
     ]
    }
   ],
   "source": [
    "model_description = read_model_description(fmu)\n",
    "\n",
    "# 提取输入变量\n",
    "inputs = []\n",
    "for variable in model_description.modelVariables:\n",
    "    if variable.causality == 'input':  # 输入变量\n",
    "        inputs.append(variable.name)\n",
    "\n",
    "# 提取输出变量\n",
    "outputs = []\n",
    "for variable in model_description.modelVariables:\n",
    "    if variable.causality == 'output':  # 输出变量\n",
    "        outputs.append(variable.name)\n",
    "\n",
    "print(\"输入变量:\", inputs)\n",
    "print(\"输出变量:\", outputs)"
   ]
  },
  {
   "cell_type": "code",
   "execution_count": 4,
   "id": "3ff7af4c-b15d-4a8c-8a8d-f21f06a9c3f1",
   "metadata": {},
   "outputs": [],
   "source": [
    "np.random.seed(42)\n",
    "start_time = 0\n",
    "stop_time = 5\n",
    "step_size = 0.1\n",
    "\n",
    "timestamps = np.arange(start_time, stop_time, step_size)\n",
    "\n",
    "# 生成整数数据\n",
    "X = np.random.randint(-10, 11, size=len(timestamps))\n",
    "Y = np.random.randint(-10, 11, size=len(timestamps))\n",
    "Z = np.random.randint(-10, 11, size=len(timestamps))\n",
    "heading = np.random.randint(-90, 91, size=len(timestamps))\n",
    "pitch = np.random.randint(-90, 91, size=len(timestamps))\n",
    "roll = np.random.randint(-90, 91, size=len(timestamps))\n",
    "speed = np.random.randint(50, 101, size=len(timestamps))\n",
    "\n",
    "# 组合数据，确保第一列是时间戳\n",
    "input_data = np.column_stack((timestamps, X, Y, Z, heading, pitch, roll, speed))\n",
    "\n",
    "# 变量名称\n",
    "input_names = [\"X\", \"Y\", \"Z\", \"Heading\", \"Pitch\", \"Roll\", \"Speed\"]\n",
    "\n",
    "# 传入 pyfmi 的正确格式\n",
    "input_tuple = (input_names, input_data)"
   ]
  },
  {
   "cell_type": "code",
   "execution_count": 6,
   "id": "1c59b961-fd34-4425-b046-a4c1d3dd9f22",
   "metadata": {},
   "outputs": [
    {
     "name": "stdout",
     "output_type": "stream",
     "text": [
      "Simulation interval    : 0 - 5.0 seconds.\n",
      "Elapsed simulation time: 0.037256398994941264 seconds.\n"
     ]
    }
   ],
   "source": [
    "result = model.simulate(start_time=start_time, final_time=stop_time,\n",
    "                        options={'ncp': int((stop_time - start_time) / step_size)},\n",
    "                        input=input_tuple)"
   ]
  },
  {
   "cell_type": "code",
   "execution_count": 7,
   "id": "d2629275-92db-485e-b4f2-936ec465f7be",
   "metadata": {},
   "outputs": [
    {
     "ename": "AttributeError",
     "evalue": "'FMIResult' object has no attribute 'dtype'",
     "output_type": "error",
     "traceback": [
      "\u001b[0;31m---------------------------------------------------------------------------\u001b[0m",
      "\u001b[0;31mAttributeError\u001b[0m                            Traceback (most recent call last)",
      "Cell \u001b[0;32mIn[7], line 1\u001b[0m\n\u001b[0;32m----> 1\u001b[0m result_timestamp \u001b[38;5;241m=\u001b[39m result[\u001b[43mresult\u001b[49m\u001b[38;5;241;43m.\u001b[39;49m\u001b[43mdtype\u001b[49m\u001b[38;5;241m.\u001b[39mnames[\u001b[38;5;241m1\u001b[39m]]  \u001b[38;5;66;03m# Assuming 'timestamp' is the correct field name\u001b[39;00m\n\u001b[1;32m      2\u001b[0m result_location \u001b[38;5;241m=\u001b[39m np\u001b[38;5;241m.\u001b[39mcolumn_stack((result[result\u001b[38;5;241m.\u001b[39mdtype\u001b[38;5;241m.\u001b[39mnames[\u001b[38;5;241m2\u001b[39m]], result[result\u001b[38;5;241m.\u001b[39mdtype\u001b[38;5;241m.\u001b[39mnames[\u001b[38;5;241m3\u001b[39m]], result[result\u001b[38;5;241m.\u001b[39mdtype\u001b[38;5;241m.\u001b[39mnames[\u001b[38;5;241m4\u001b[39m]]))  \u001b[38;5;66;03m# Combine X and Y for location\u001b[39;00m\n\u001b[1;32m      3\u001b[0m result_angle \u001b[38;5;241m=\u001b[39m np\u001b[38;5;241m.\u001b[39mcolumn_stack((result[result\u001b[38;5;241m.\u001b[39mdtype\u001b[38;5;241m.\u001b[39mnames[\u001b[38;5;241m5\u001b[39m]], result[result\u001b[38;5;241m.\u001b[39mdtype\u001b[38;5;241m.\u001b[39mnames[\u001b[38;5;241m6\u001b[39m]], result[result\u001b[38;5;241m.\u001b[39mdtype\u001b[38;5;241m.\u001b[39mnames[\u001b[38;5;241m7\u001b[39m]]))  \u001b[38;5;66;03m# Combine heading and pitch for angle\u001b[39;00m\n",
      "\u001b[0;31mAttributeError\u001b[0m: 'FMIResult' object has no attribute 'dtype'"
     ]
    }
   ],
   "source": [
    "result_timestamp = result[result.dtype.names[1]]  # Assuming 'timestamp' is the correct field name\n",
    "result_location = np.column_stack((result[result.dtype.names[2]], result[result.dtype.names[3]], result[result.dtype.names[4]]))  # Combine X and Y for location\n",
    "result_angle = np.column_stack((result[result.dtype.names[5]], result[result.dtype.names[6]], result[result.dtype.names[7]]))  # Combine heading and pitch for angle\n",
    "result_speed = result[result.dtype.names[-1]]  # Access speed directly\n",
    "\n",
    "# print(result_location)"
   ]
  },
  {
   "cell_type": "code",
   "execution_count": 8,
   "id": "f7c95ab0-45ea-46eb-bb5a-a0728de931b2",
   "metadata": {},
   "outputs": [
    {
     "name": "stdout",
     "output_type": "stream",
     "text": [
      "<pyfmi.fmi_algorithm_drivers.FMIResult object at 0x7fd6014f0470>\n"
     ]
    }
   ],
   "source": [
    "print(result)"
   ]
  },
  {
   "cell_type": "code",
   "execution_count": null,
   "id": "377d9c3e-ce76-49e3-87d2-03472c32a6ae",
   "metadata": {},
   "outputs": [],
   "source": []
  }
 ],
 "metadata": {
  "kernelspec": {
   "display_name": "Python 3 (ipykernel)",
   "language": "python",
   "name": "python3"
  },
  "language_info": {
   "codemirror_mode": {
    "name": "ipython",
    "version": 3
   },
   "file_extension": ".py",
   "mimetype": "text/x-python",
   "name": "python",
   "nbconvert_exporter": "python",
   "pygments_lexer": "ipython3",
   "version": "3.12.2"
  }
 },
 "nbformat": 4,
 "nbformat_minor": 5
}
